{
 "cells": [
  {
   "cell_type": "code",
   "execution_count": 1,
   "metadata": {},
   "outputs": [],
   "source": [
    "import torch\n",
    "from utils import load_face_model, image2tensor\n",
    "from PIL import Image\n",
    "import os\n",
    "import random"
   ]
  },
  {
   "cell_type": "code",
   "execution_count": null,
   "metadata": {},
   "outputs": [],
   "source": [
    "face_model = load_face_model()"
   ]
  },
  {
   "cell_type": "code",
   "execution_count": 2,
   "metadata": {},
   "outputs": [],
   "source": [
    "data_dir = '/tf/AAA_data'\n",
    "\n",
    "class udf_dataloader():\n",
    "    def __init__(self, data_path):\n",
    "        self.img_path = [os.path.join(data_path, img_name) for img_name in os.listdir(data_path)]\n",
    "    \n",
    "    def next_batch(self):\n",
    "        img1_path = random.choice(self.img_path)\n",
    "        img2_path = random.choice(self.img_path)\n",
    "        while img1_path == img2_path:\n",
    "            img1_path = random.choice(self.img_path)\n",
    "            img2_path = random.choice(self.img_path)\n",
    "        \n",
    "        img1 = Image.open(img1_path)\n",
    "        img2 = Image.open(img2_path)\n",
    "        \n",
    "        return image2tensor(img1)/255, image2tensor(img2)/255"
   ]
  },
  {
   "cell_type": "code",
   "execution_count": 3,
   "metadata": {},
   "outputs": [],
   "source": [
    "data_loader = udf_dataloader(data_dir)\n",
    "a,b = data_loader.next_batch()"
   ]
  },
  {
   "cell_type": "code",
   "execution_count": 4,
   "metadata": {},
   "outputs": [],
   "source": [
    "from models.ATN import ATN"
   ]
  },
  {
   "cell_type": "code",
   "execution_count": 5,
   "metadata": {},
   "outputs": [],
   "source": [
    "atn = ATN()"
   ]
  },
  {
   "cell_type": "code",
   "execution_count": 6,
   "metadata": {},
   "outputs": [],
   "source": [
    "out = atn(a, b)"
   ]
  },
  {
   "cell_type": "code",
   "execution_count": 7,
   "metadata": {},
   "outputs": [
    {
     "data": {
      "text/plain": [
       "tensor([[[[0.5340, 0.5744, 0.6557,  ..., 0.6142, 0.6587, 0.4275],\n",
       "          [0.4772, 0.6387, 0.5824,  ..., 0.5036, 0.1528, 0.4820],\n",
       "          [0.5176, 0.5816, 0.5591,  ..., 0.2846, 0.1449, 0.2682],\n",
       "          ...,\n",
       "          [0.6692, 0.6258, 0.3196,  ..., 0.1802, 0.3871, 0.5974],\n",
       "          [0.4073, 0.6890, 0.4316,  ..., 0.3933, 0.3077, 0.4237],\n",
       "          [0.5286, 0.4086, 0.3322,  ..., 0.4549, 0.3611, 0.4686]],\n",
       "\n",
       "         [[0.5600, 0.5836, 0.4043,  ..., 0.3437, 0.4659, 0.7807],\n",
       "          [0.4692, 0.4271, 0.4193,  ..., 0.5711, 0.2108, 0.5458],\n",
       "          [0.5659, 0.8092, 0.5962,  ..., 0.5530, 0.4202, 0.7607],\n",
       "          ...,\n",
       "          [0.6149, 0.6489, 0.5502,  ..., 0.7347, 0.6924, 0.6519],\n",
       "          [0.5549, 0.5612, 0.5728,  ..., 0.8423, 0.7115, 0.5580],\n",
       "          [0.5897, 0.5171, 0.5790,  ..., 0.7060, 0.6744, 0.6616]],\n",
       "\n",
       "         [[0.6138, 0.5751, 0.7069,  ..., 0.7257, 0.5559, 0.7843],\n",
       "          [0.4626, 0.7074, 0.5435,  ..., 0.7753, 0.7604, 0.7172],\n",
       "          [0.5779, 0.5874, 0.5120,  ..., 0.7671, 0.7620, 0.5506],\n",
       "          ...,\n",
       "          [0.5271, 0.6942, 0.7124,  ..., 0.5591, 0.7792, 0.7505],\n",
       "          [0.5862, 0.6346, 0.8032,  ..., 0.7317, 0.6548, 0.7214],\n",
       "          [0.4315, 0.5544, 0.5980,  ..., 0.6440, 0.6493, 0.5858]]]],\n",
       "       grad_fn=<SigmoidBackward>)"
      ]
     },
     "execution_count": 7,
     "metadata": {},
     "output_type": "execute_result"
    }
   ],
   "source": [
    "out"
   ]
  },
  {
   "cell_type": "code",
   "execution_count": 5,
   "metadata": {},
   "outputs": [],
   "source": [
    "import os\n",
    "import random\n",
    "\n",
    "source_dir = '/tf/LFW/lfw_mtcnnpy_112'\n",
    "result_imgs = []\n",
    "for d in os.listdir(source_dir):\n",
    "    d_ = os.path.join(source_dir, d)\n",
    "    if os.path.isdir(d_):\n",
    "        img_dir = os.path.join(d_, random.choice(os.listdir(d_)))\n",
    "        result_imgs.append(img_dir)"
   ]
  },
  {
   "cell_type": "code",
   "execution_count": 9,
   "metadata": {},
   "outputs": [
    {
     "data": {
      "text/plain": [
       "5749"
      ]
     },
     "execution_count": 9,
     "metadata": {},
     "output_type": "execute_result"
    }
   ],
   "source": [
    "len(result_imgs)"
   ]
  },
  {
   "cell_type": "code",
   "execution_count": 13,
   "metadata": {},
   "outputs": [],
   "source": [
    "import shutil\n",
    "\n",
    "target_dir = '/tf/AAA_data/'\n",
    "for img in result_imgs:\n",
    "    shutil.copy(img, target_dir)"
   ]
  },
  {
   "cell_type": "code",
   "execution_count": 14,
   "metadata": {},
   "outputs": [
    {
     "data": {
      "text/plain": [
       "True"
      ]
     },
     "execution_count": 14,
     "metadata": {},
     "output_type": "execute_result"
    }
   ],
   "source": [
    "source_dir == source_dir"
   ]
  },
  {
   "cell_type": "code",
   "execution_count": 15,
   "metadata": {},
   "outputs": [
    {
     "data": {
      "text/plain": [
       "False"
      ]
     },
     "execution_count": 15,
     "metadata": {},
     "output_type": "execute_result"
    }
   ],
   "source": [
    "source_dir == \"/tf/LFW/lfw_mtc\""
   ]
  },
  {
   "cell_type": "code",
   "execution_count": null,
   "metadata": {},
   "outputs": [],
   "source": []
  }
 ],
 "metadata": {
  "kernelspec": {
   "display_name": "Python 3",
   "language": "python",
   "name": "python3"
  },
  "language_info": {
   "codemirror_mode": {
    "name": "ipython",
    "version": 3
   },
   "file_extension": ".py",
   "mimetype": "text/x-python",
   "name": "python",
   "nbconvert_exporter": "python",
   "pygments_lexer": "ipython3",
   "version": "3.5.2"
  }
 },
 "nbformat": 4,
 "nbformat_minor": 2
}
